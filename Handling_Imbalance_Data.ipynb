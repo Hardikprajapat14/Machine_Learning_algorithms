{
 "cells": [
  {
   "cell_type": "code",
   "execution_count": 1,
   "id": "6134fe8b-803b-48a8-ae02-cee9ad321cad",
   "metadata": {},
   "outputs": [],
   "source": [
    "import pandas as pd\n",
    "import numpy as np\n",
    "import seaborn as sns\n",
    "import matplotlib.pyplot as plt"
   ]
  },
  {
   "cell_type": "code",
   "execution_count": 2,
   "id": "3b1402b5-61b9-4fd4-8e8e-b9fac6016f46",
   "metadata": {},
   "outputs": [
    {
     "data": {
      "text/html": [
       "<div>\n",
       "<style scoped>\n",
       "    .dataframe tbody tr th:only-of-type {\n",
       "        vertical-align: middle;\n",
       "    }\n",
       "\n",
       "    .dataframe tbody tr th {\n",
       "        vertical-align: top;\n",
       "    }\n",
       "\n",
       "    .dataframe thead th {\n",
       "        text-align: right;\n",
       "    }\n",
       "</style>\n",
       "<table border=\"1\" class=\"dataframe\">\n",
       "  <thead>\n",
       "    <tr style=\"text-align: right;\">\n",
       "      <th></th>\n",
       "      <th>Time</th>\n",
       "      <th>V1</th>\n",
       "      <th>V2</th>\n",
       "      <th>V3</th>\n",
       "      <th>V4</th>\n",
       "      <th>V5</th>\n",
       "      <th>V6</th>\n",
       "      <th>V7</th>\n",
       "      <th>V8</th>\n",
       "      <th>V9</th>\n",
       "      <th>...</th>\n",
       "      <th>V21</th>\n",
       "      <th>V22</th>\n",
       "      <th>V23</th>\n",
       "      <th>V24</th>\n",
       "      <th>V25</th>\n",
       "      <th>V26</th>\n",
       "      <th>V27</th>\n",
       "      <th>V28</th>\n",
       "      <th>Amount</th>\n",
       "      <th>Class</th>\n",
       "    </tr>\n",
       "  </thead>\n",
       "  <tbody>\n",
       "    <tr>\n",
       "      <th>0</th>\n",
       "      <td>0.0</td>\n",
       "      <td>-1.359807</td>\n",
       "      <td>-0.072781</td>\n",
       "      <td>2.536347</td>\n",
       "      <td>1.378155</td>\n",
       "      <td>-0.338321</td>\n",
       "      <td>0.462388</td>\n",
       "      <td>0.239599</td>\n",
       "      <td>0.098698</td>\n",
       "      <td>0.363787</td>\n",
       "      <td>...</td>\n",
       "      <td>-0.018307</td>\n",
       "      <td>0.277838</td>\n",
       "      <td>-0.110474</td>\n",
       "      <td>0.066928</td>\n",
       "      <td>0.128539</td>\n",
       "      <td>-0.189115</td>\n",
       "      <td>0.133558</td>\n",
       "      <td>-0.021053</td>\n",
       "      <td>149.62</td>\n",
       "      <td>0</td>\n",
       "    </tr>\n",
       "    <tr>\n",
       "      <th>1</th>\n",
       "      <td>0.0</td>\n",
       "      <td>1.191857</td>\n",
       "      <td>0.266151</td>\n",
       "      <td>0.166480</td>\n",
       "      <td>0.448154</td>\n",
       "      <td>0.060018</td>\n",
       "      <td>-0.082361</td>\n",
       "      <td>-0.078803</td>\n",
       "      <td>0.085102</td>\n",
       "      <td>-0.255425</td>\n",
       "      <td>...</td>\n",
       "      <td>-0.225775</td>\n",
       "      <td>-0.638672</td>\n",
       "      <td>0.101288</td>\n",
       "      <td>-0.339846</td>\n",
       "      <td>0.167170</td>\n",
       "      <td>0.125895</td>\n",
       "      <td>-0.008983</td>\n",
       "      <td>0.014724</td>\n",
       "      <td>2.69</td>\n",
       "      <td>0</td>\n",
       "    </tr>\n",
       "    <tr>\n",
       "      <th>2</th>\n",
       "      <td>1.0</td>\n",
       "      <td>-1.358354</td>\n",
       "      <td>-1.340163</td>\n",
       "      <td>1.773209</td>\n",
       "      <td>0.379780</td>\n",
       "      <td>-0.503198</td>\n",
       "      <td>1.800499</td>\n",
       "      <td>0.791461</td>\n",
       "      <td>0.247676</td>\n",
       "      <td>-1.514654</td>\n",
       "      <td>...</td>\n",
       "      <td>0.247998</td>\n",
       "      <td>0.771679</td>\n",
       "      <td>0.909412</td>\n",
       "      <td>-0.689281</td>\n",
       "      <td>-0.327642</td>\n",
       "      <td>-0.139097</td>\n",
       "      <td>-0.055353</td>\n",
       "      <td>-0.059752</td>\n",
       "      <td>378.66</td>\n",
       "      <td>0</td>\n",
       "    </tr>\n",
       "    <tr>\n",
       "      <th>3</th>\n",
       "      <td>1.0</td>\n",
       "      <td>-0.966272</td>\n",
       "      <td>-0.185226</td>\n",
       "      <td>1.792993</td>\n",
       "      <td>-0.863291</td>\n",
       "      <td>-0.010309</td>\n",
       "      <td>1.247203</td>\n",
       "      <td>0.237609</td>\n",
       "      <td>0.377436</td>\n",
       "      <td>-1.387024</td>\n",
       "      <td>...</td>\n",
       "      <td>-0.108300</td>\n",
       "      <td>0.005274</td>\n",
       "      <td>-0.190321</td>\n",
       "      <td>-1.175575</td>\n",
       "      <td>0.647376</td>\n",
       "      <td>-0.221929</td>\n",
       "      <td>0.062723</td>\n",
       "      <td>0.061458</td>\n",
       "      <td>123.50</td>\n",
       "      <td>0</td>\n",
       "    </tr>\n",
       "    <tr>\n",
       "      <th>4</th>\n",
       "      <td>2.0</td>\n",
       "      <td>-1.158233</td>\n",
       "      <td>0.877737</td>\n",
       "      <td>1.548718</td>\n",
       "      <td>0.403034</td>\n",
       "      <td>-0.407193</td>\n",
       "      <td>0.095921</td>\n",
       "      <td>0.592941</td>\n",
       "      <td>-0.270533</td>\n",
       "      <td>0.817739</td>\n",
       "      <td>...</td>\n",
       "      <td>-0.009431</td>\n",
       "      <td>0.798278</td>\n",
       "      <td>-0.137458</td>\n",
       "      <td>0.141267</td>\n",
       "      <td>-0.206010</td>\n",
       "      <td>0.502292</td>\n",
       "      <td>0.219422</td>\n",
       "      <td>0.215153</td>\n",
       "      <td>69.99</td>\n",
       "      <td>0</td>\n",
       "    </tr>\n",
       "  </tbody>\n",
       "</table>\n",
       "<p>5 rows × 31 columns</p>\n",
       "</div>"
      ],
      "text/plain": [
       "   Time        V1        V2        V3        V4        V5        V6        V7  \\\n",
       "0   0.0 -1.359807 -0.072781  2.536347  1.378155 -0.338321  0.462388  0.239599   \n",
       "1   0.0  1.191857  0.266151  0.166480  0.448154  0.060018 -0.082361 -0.078803   \n",
       "2   1.0 -1.358354 -1.340163  1.773209  0.379780 -0.503198  1.800499  0.791461   \n",
       "3   1.0 -0.966272 -0.185226  1.792993 -0.863291 -0.010309  1.247203  0.237609   \n",
       "4   2.0 -1.158233  0.877737  1.548718  0.403034 -0.407193  0.095921  0.592941   \n",
       "\n",
       "         V8        V9  ...       V21       V22       V23       V24       V25  \\\n",
       "0  0.098698  0.363787  ... -0.018307  0.277838 -0.110474  0.066928  0.128539   \n",
       "1  0.085102 -0.255425  ... -0.225775 -0.638672  0.101288 -0.339846  0.167170   \n",
       "2  0.247676 -1.514654  ...  0.247998  0.771679  0.909412 -0.689281 -0.327642   \n",
       "3  0.377436 -1.387024  ... -0.108300  0.005274 -0.190321 -1.175575  0.647376   \n",
       "4 -0.270533  0.817739  ... -0.009431  0.798278 -0.137458  0.141267 -0.206010   \n",
       "\n",
       "        V26       V27       V28  Amount  Class  \n",
       "0 -0.189115  0.133558 -0.021053  149.62      0  \n",
       "1  0.125895 -0.008983  0.014724    2.69      0  \n",
       "2 -0.139097 -0.055353 -0.059752  378.66      0  \n",
       "3 -0.221929  0.062723  0.061458  123.50      0  \n",
       "4  0.502292  0.219422  0.215153   69.99      0  \n",
       "\n",
       "[5 rows x 31 columns]"
      ]
     },
     "execution_count": 2,
     "metadata": {},
     "output_type": "execute_result"
    }
   ],
   "source": [
    "df= pd.read_csv(r'C:\\Mahesh\\Datasets\\creditcard.csv')\n",
    "\n",
    "df.head()"
   ]
  },
  {
   "cell_type": "code",
   "execution_count": 3,
   "id": "8cfdfe66-ab97-4c22-844a-08d628dae557",
   "metadata": {},
   "outputs": [
    {
     "name": "stdout",
     "output_type": "stream",
     "text": [
      "<class 'pandas.core.frame.DataFrame'>\n",
      "RangeIndex: 284807 entries, 0 to 284806\n",
      "Data columns (total 31 columns):\n",
      " #   Column  Non-Null Count   Dtype  \n",
      "---  ------  --------------   -----  \n",
      " 0   Time    284807 non-null  float64\n",
      " 1   V1      284807 non-null  float64\n",
      " 2   V2      284807 non-null  float64\n",
      " 3   V3      284807 non-null  float64\n",
      " 4   V4      284807 non-null  float64\n",
      " 5   V5      284807 non-null  float64\n",
      " 6   V6      284807 non-null  float64\n",
      " 7   V7      284807 non-null  float64\n",
      " 8   V8      284807 non-null  float64\n",
      " 9   V9      284807 non-null  float64\n",
      " 10  V10     284807 non-null  float64\n",
      " 11  V11     284807 non-null  float64\n",
      " 12  V12     284807 non-null  float64\n",
      " 13  V13     284807 non-null  float64\n",
      " 14  V14     284807 non-null  float64\n",
      " 15  V15     284807 non-null  float64\n",
      " 16  V16     284807 non-null  float64\n",
      " 17  V17     284807 non-null  float64\n",
      " 18  V18     284807 non-null  float64\n",
      " 19  V19     284807 non-null  float64\n",
      " 20  V20     284807 non-null  float64\n",
      " 21  V21     284807 non-null  float64\n",
      " 22  V22     284807 non-null  float64\n",
      " 23  V23     284807 non-null  float64\n",
      " 24  V24     284807 non-null  float64\n",
      " 25  V25     284807 non-null  float64\n",
      " 26  V26     284807 non-null  float64\n",
      " 27  V27     284807 non-null  float64\n",
      " 28  V28     284807 non-null  float64\n",
      " 29  Amount  284807 non-null  float64\n",
      " 30  Class   284807 non-null  int64  \n",
      "dtypes: float64(30), int64(1)\n",
      "memory usage: 67.4 MB\n"
     ]
    }
   ],
   "source": [
    "df.info()"
   ]
  },
  {
   "cell_type": "code",
   "execution_count": 4,
   "id": "2378340b-3319-4c75-a690-c25d58aa0521",
   "metadata": {},
   "outputs": [
    {
     "data": {
      "text/plain": [
       "array([0, 1], dtype=int64)"
      ]
     },
     "execution_count": 4,
     "metadata": {},
     "output_type": "execute_result"
    }
   ],
   "source": [
    "df.Class.unique()"
   ]
  },
  {
   "cell_type": "code",
   "execution_count": 5,
   "id": "b8d0a45a-4b8c-4bcd-b53e-765615e11e74",
   "metadata": {},
   "outputs": [
    {
     "data": {
      "text/plain": [
       "Time      0\n",
       "V1        0\n",
       "V2        0\n",
       "V3        0\n",
       "V4        0\n",
       "V5        0\n",
       "V6        0\n",
       "V7        0\n",
       "V8        0\n",
       "V9        0\n",
       "V10       0\n",
       "V11       0\n",
       "V12       0\n",
       "V13       0\n",
       "V14       0\n",
       "V15       0\n",
       "V16       0\n",
       "V17       0\n",
       "V18       0\n",
       "V19       0\n",
       "V20       0\n",
       "V21       0\n",
       "V22       0\n",
       "V23       0\n",
       "V24       0\n",
       "V25       0\n",
       "V26       0\n",
       "V27       0\n",
       "V28       0\n",
       "Amount    0\n",
       "Class     0\n",
       "dtype: int64"
      ]
     },
     "execution_count": 5,
     "metadata": {},
     "output_type": "execute_result"
    }
   ],
   "source": [
    "df.isnull().sum()"
   ]
  },
  {
   "cell_type": "code",
   "execution_count": 6,
   "id": "6b0df394-5662-41d6-a061-9aeb282cda77",
   "metadata": {},
   "outputs": [
    {
     "data": {
      "text/plain": [
       "Class\n",
       "0    284315\n",
       "1       492\n",
       "Name: count, dtype: int64"
      ]
     },
     "execution_count": 6,
     "metadata": {},
     "output_type": "execute_result"
    }
   ],
   "source": [
    "df.Class.value_counts()"
   ]
  },
  {
   "cell_type": "code",
   "execution_count": 7,
   "id": "a29f2c74-07cf-429c-ad05-ffe38179ebf0",
   "metadata": {},
   "outputs": [],
   "source": [
    "# dependent and independent features\n",
    "\n",
    "x = df.drop('Class',axis=1)\n",
    "y = df.Class"
   ]
  },
  {
   "cell_type": "code",
   "execution_count": 8,
   "id": "b0369f8f-aff5-4175-8552-e248e98f9003",
   "metadata": {},
   "outputs": [],
   "source": [
    "# train test split\n",
    "\n",
    "from sklearn.model_selection import train_test_split\n",
    "\n",
    "x_train,x_test,y_train,y_test = train_test_split(x,y,test_size=0.30,random_state=42)"
   ]
  },
  {
   "cell_type": "code",
   "execution_count": 9,
   "id": "b79bb16d-8b98-45cf-b21f-53ff134fb367",
   "metadata": {},
   "outputs": [
    {
     "data": {
      "text/plain": [
       "Class\n",
       "0    199008\n",
       "1       356\n",
       "Name: count, dtype: int64"
      ]
     },
     "execution_count": 9,
     "metadata": {},
     "output_type": "execute_result"
    }
   ],
   "source": [
    "y_train.value_counts()"
   ]
  },
  {
   "cell_type": "markdown",
   "id": "8371b26d-5d55-491d-bfec-f98b44f954d6",
   "metadata": {},
   "source": [
    "### Undersampling"
   ]
  },
  {
   "cell_type": "code",
   "execution_count": 10,
   "id": "9e30aa07-06dc-4639-9ef6-ee4aea794da6",
   "metadata": {},
   "outputs": [],
   "source": [
    "from imblearn.under_sampling import NearMiss"
   ]
  },
  {
   "cell_type": "code",
   "execution_count": 11,
   "id": "4b9b5849-3be9-4124-b90d-cc3c60259077",
   "metadata": {},
   "outputs": [],
   "source": [
    "# initialize\n",
    "\n",
    "nm = NearMiss()\n"
   ]
  },
  {
   "cell_type": "code",
   "execution_count": 12,
   "id": "212bffe5-912e-416b-a832-4a4f129bbd18",
   "metadata": {},
   "outputs": [],
   "source": [
    "x_train_nm,y_train_nm = nm.fit_resample(x_train,y_train)"
   ]
  },
  {
   "cell_type": "code",
   "execution_count": 13,
   "id": "4114d238-a051-459b-9097-8c60fc3a4085",
   "metadata": {},
   "outputs": [
    {
     "data": {
      "text/plain": [
       "Class\n",
       "0    356\n",
       "1    356\n",
       "Name: count, dtype: int64"
      ]
     },
     "execution_count": 13,
     "metadata": {},
     "output_type": "execute_result"
    }
   ],
   "source": [
    "y_train_nm.value_counts()"
   ]
  },
  {
   "cell_type": "code",
   "execution_count": 15,
   "id": "a6f2a72f-cf42-4c3a-af45-a91b88b3687a",
   "metadata": {},
   "outputs": [
    {
     "data": {
      "text/html": [
       "<div>\n",
       "<style scoped>\n",
       "    .dataframe tbody tr th:only-of-type {\n",
       "        vertical-align: middle;\n",
       "    }\n",
       "\n",
       "    .dataframe tbody tr th {\n",
       "        vertical-align: top;\n",
       "    }\n",
       "\n",
       "    .dataframe thead th {\n",
       "        text-align: right;\n",
       "    }\n",
       "</style>\n",
       "<table border=\"1\" class=\"dataframe\">\n",
       "  <thead>\n",
       "    <tr style=\"text-align: right;\">\n",
       "      <th></th>\n",
       "      <th>Time</th>\n",
       "      <th>V1</th>\n",
       "      <th>V2</th>\n",
       "      <th>V3</th>\n",
       "      <th>V4</th>\n",
       "      <th>V5</th>\n",
       "      <th>V6</th>\n",
       "      <th>V7</th>\n",
       "      <th>V8</th>\n",
       "      <th>V9</th>\n",
       "      <th>...</th>\n",
       "      <th>V20</th>\n",
       "      <th>V21</th>\n",
       "      <th>V22</th>\n",
       "      <th>V23</th>\n",
       "      <th>V24</th>\n",
       "      <th>V25</th>\n",
       "      <th>V26</th>\n",
       "      <th>V27</th>\n",
       "      <th>V28</th>\n",
       "      <th>Amount</th>\n",
       "    </tr>\n",
       "  </thead>\n",
       "  <tbody>\n",
       "    <tr>\n",
       "      <th>0</th>\n",
       "      <td>76866.0</td>\n",
       "      <td>1.257227</td>\n",
       "      <td>0.408096</td>\n",
       "      <td>0.319266</td>\n",
       "      <td>0.685011</td>\n",
       "      <td>-0.302937</td>\n",
       "      <td>-1.052552</td>\n",
       "      <td>0.136991</td>\n",
       "      <td>-0.245655</td>\n",
       "      <td>-0.079491</td>\n",
       "      <td>...</td>\n",
       "      <td>-0.033053</td>\n",
       "      <td>-0.279430</td>\n",
       "      <td>-0.770134</td>\n",
       "      <td>0.119789</td>\n",
       "      <td>0.360130</td>\n",
       "      <td>0.241921</td>\n",
       "      <td>0.092261</td>\n",
       "      <td>-0.018228</td>\n",
       "      <td>0.032361</td>\n",
       "      <td>1.78</td>\n",
       "    </tr>\n",
       "    <tr>\n",
       "      <th>1</th>\n",
       "      <td>76868.0</td>\n",
       "      <td>1.254775</td>\n",
       "      <td>0.375340</td>\n",
       "      <td>0.311959</td>\n",
       "      <td>0.691077</td>\n",
       "      <td>-0.343494</td>\n",
       "      <td>-1.065252</td>\n",
       "      <td>0.110222</td>\n",
       "      <td>-0.222721</td>\n",
       "      <td>-0.017278</td>\n",
       "      <td>...</td>\n",
       "      <td>-0.057911</td>\n",
       "      <td>-0.283275</td>\n",
       "      <td>-0.803506</td>\n",
       "      <td>0.124643</td>\n",
       "      <td>0.354395</td>\n",
       "      <td>0.226835</td>\n",
       "      <td>0.093208</td>\n",
       "      <td>-0.021100</td>\n",
       "      <td>0.031686</td>\n",
       "      <td>2.69</td>\n",
       "    </tr>\n",
       "    <tr>\n",
       "      <th>2</th>\n",
       "      <td>76870.0</td>\n",
       "      <td>-1.050697</td>\n",
       "      <td>1.500753</td>\n",
       "      <td>0.846326</td>\n",
       "      <td>-0.282956</td>\n",
       "      <td>0.059866</td>\n",
       "      <td>-0.561182</td>\n",
       "      <td>0.484517</td>\n",
       "      <td>0.181547</td>\n",
       "      <td>0.081544</td>\n",
       "      <td>...</td>\n",
       "      <td>0.457988</td>\n",
       "      <td>-0.335560</td>\n",
       "      <td>-0.780232</td>\n",
       "      <td>-0.027029</td>\n",
       "      <td>-0.090180</td>\n",
       "      <td>-0.022896</td>\n",
       "      <td>0.091830</td>\n",
       "      <td>0.547241</td>\n",
       "      <td>0.278780</td>\n",
       "      <td>1.29</td>\n",
       "    </tr>\n",
       "    <tr>\n",
       "      <th>3</th>\n",
       "      <td>76866.0</td>\n",
       "      <td>1.245537</td>\n",
       "      <td>0.419648</td>\n",
       "      <td>0.312943</td>\n",
       "      <td>1.111459</td>\n",
       "      <td>-0.205612</td>\n",
       "      <td>-0.950912</td>\n",
       "      <td>0.267398</td>\n",
       "      <td>-0.274685</td>\n",
       "      <td>-0.127708</td>\n",
       "      <td>...</td>\n",
       "      <td>-0.098066</td>\n",
       "      <td>0.035687</td>\n",
       "      <td>0.186705</td>\n",
       "      <td>-0.107300</td>\n",
       "      <td>0.417887</td>\n",
       "      <td>0.712330</td>\n",
       "      <td>-0.330843</td>\n",
       "      <td>0.018576</td>\n",
       "      <td>0.021871</td>\n",
       "      <td>3.99</td>\n",
       "    </tr>\n",
       "    <tr>\n",
       "      <th>4</th>\n",
       "      <td>76859.0</td>\n",
       "      <td>1.161210</td>\n",
       "      <td>0.196413</td>\n",
       "      <td>0.602776</td>\n",
       "      <td>0.497615</td>\n",
       "      <td>-0.287764</td>\n",
       "      <td>-0.302403</td>\n",
       "      <td>-0.079441</td>\n",
       "      <td>0.037268</td>\n",
       "      <td>-0.311975</td>\n",
       "      <td>...</td>\n",
       "      <td>-0.087861</td>\n",
       "      <td>-0.158953</td>\n",
       "      <td>-0.436612</td>\n",
       "      <td>0.172903</td>\n",
       "      <td>0.233287</td>\n",
       "      <td>0.105276</td>\n",
       "      <td>0.092472</td>\n",
       "      <td>-0.012589</td>\n",
       "      <td>0.008542</td>\n",
       "      <td>1.29</td>\n",
       "    </tr>\n",
       "    <tr>\n",
       "      <th>...</th>\n",
       "      <td>...</td>\n",
       "      <td>...</td>\n",
       "      <td>...</td>\n",
       "      <td>...</td>\n",
       "      <td>...</td>\n",
       "      <td>...</td>\n",
       "      <td>...</td>\n",
       "      <td>...</td>\n",
       "      <td>...</td>\n",
       "      <td>...</td>\n",
       "      <td>...</td>\n",
       "      <td>...</td>\n",
       "      <td>...</td>\n",
       "      <td>...</td>\n",
       "      <td>...</td>\n",
       "      <td>...</td>\n",
       "      <td>...</td>\n",
       "      <td>...</td>\n",
       "      <td>...</td>\n",
       "      <td>...</td>\n",
       "      <td>...</td>\n",
       "    </tr>\n",
       "    <tr>\n",
       "      <th>707</th>\n",
       "      <td>41194.0</td>\n",
       "      <td>-7.896886</td>\n",
       "      <td>5.381020</td>\n",
       "      <td>-8.451162</td>\n",
       "      <td>7.963928</td>\n",
       "      <td>-7.862419</td>\n",
       "      <td>-2.376820</td>\n",
       "      <td>-11.949723</td>\n",
       "      <td>5.051356</td>\n",
       "      <td>-6.912076</td>\n",
       "      <td>...</td>\n",
       "      <td>0.645974</td>\n",
       "      <td>2.557944</td>\n",
       "      <td>0.926278</td>\n",
       "      <td>0.032795</td>\n",
       "      <td>0.638073</td>\n",
       "      <td>0.361887</td>\n",
       "      <td>0.444577</td>\n",
       "      <td>1.101923</td>\n",
       "      <td>0.205958</td>\n",
       "      <td>1.52</td>\n",
       "    </tr>\n",
       "    <tr>\n",
       "      <th>708</th>\n",
       "      <td>37167.0</td>\n",
       "      <td>-7.923891</td>\n",
       "      <td>-5.198360</td>\n",
       "      <td>-3.000024</td>\n",
       "      <td>4.420666</td>\n",
       "      <td>2.272194</td>\n",
       "      <td>-3.394483</td>\n",
       "      <td>-5.283435</td>\n",
       "      <td>0.131619</td>\n",
       "      <td>0.658176</td>\n",
       "      <td>...</td>\n",
       "      <td>-2.169811</td>\n",
       "      <td>-0.734308</td>\n",
       "      <td>-0.599926</td>\n",
       "      <td>-4.908301</td>\n",
       "      <td>0.410170</td>\n",
       "      <td>-1.167660</td>\n",
       "      <td>0.520508</td>\n",
       "      <td>1.937421</td>\n",
       "      <td>-1.552593</td>\n",
       "      <td>12.31</td>\n",
       "    </tr>\n",
       "    <tr>\n",
       "      <th>709</th>\n",
       "      <td>125612.0</td>\n",
       "      <td>1.889618</td>\n",
       "      <td>1.073099</td>\n",
       "      <td>-1.678018</td>\n",
       "      <td>4.173268</td>\n",
       "      <td>1.015516</td>\n",
       "      <td>-0.009389</td>\n",
       "      <td>-0.079706</td>\n",
       "      <td>0.064071</td>\n",
       "      <td>-0.714517</td>\n",
       "      <td>...</td>\n",
       "      <td>-0.153570</td>\n",
       "      <td>0.203728</td>\n",
       "      <td>0.733796</td>\n",
       "      <td>-0.036560</td>\n",
       "      <td>0.334306</td>\n",
       "      <td>0.147171</td>\n",
       "      <td>0.279556</td>\n",
       "      <td>0.031669</td>\n",
       "      <td>0.035883</td>\n",
       "      <td>3.22</td>\n",
       "    </tr>\n",
       "    <tr>\n",
       "      <th>710</th>\n",
       "      <td>102625.0</td>\n",
       "      <td>-4.221221</td>\n",
       "      <td>2.871121</td>\n",
       "      <td>-5.888716</td>\n",
       "      <td>6.890952</td>\n",
       "      <td>-3.404894</td>\n",
       "      <td>-1.154394</td>\n",
       "      <td>-7.739928</td>\n",
       "      <td>2.851363</td>\n",
       "      <td>-2.507569</td>\n",
       "      <td>...</td>\n",
       "      <td>-0.227882</td>\n",
       "      <td>1.620591</td>\n",
       "      <td>1.567947</td>\n",
       "      <td>-0.578007</td>\n",
       "      <td>-0.059045</td>\n",
       "      <td>-1.829169</td>\n",
       "      <td>-0.072429</td>\n",
       "      <td>0.136734</td>\n",
       "      <td>-0.599848</td>\n",
       "      <td>7.59</td>\n",
       "    </tr>\n",
       "    <tr>\n",
       "      <th>711</th>\n",
       "      <td>144808.0</td>\n",
       "      <td>-2.405207</td>\n",
       "      <td>2.943823</td>\n",
       "      <td>-7.616654</td>\n",
       "      <td>3.533374</td>\n",
       "      <td>-5.417494</td>\n",
       "      <td>-0.112632</td>\n",
       "      <td>-1.329372</td>\n",
       "      <td>1.709417</td>\n",
       "      <td>-2.322716</td>\n",
       "      <td>...</td>\n",
       "      <td>-0.338707</td>\n",
       "      <td>0.652683</td>\n",
       "      <td>0.414132</td>\n",
       "      <td>0.023869</td>\n",
       "      <td>-0.260616</td>\n",
       "      <td>0.405316</td>\n",
       "      <td>0.029107</td>\n",
       "      <td>0.519807</td>\n",
       "      <td>-0.469537</td>\n",
       "      <td>667.55</td>\n",
       "    </tr>\n",
       "  </tbody>\n",
       "</table>\n",
       "<p>712 rows × 30 columns</p>\n",
       "</div>"
      ],
      "text/plain": [
       "         Time        V1        V2        V3        V4        V5        V6  \\\n",
       "0     76866.0  1.257227  0.408096  0.319266  0.685011 -0.302937 -1.052552   \n",
       "1     76868.0  1.254775  0.375340  0.311959  0.691077 -0.343494 -1.065252   \n",
       "2     76870.0 -1.050697  1.500753  0.846326 -0.282956  0.059866 -0.561182   \n",
       "3     76866.0  1.245537  0.419648  0.312943  1.111459 -0.205612 -0.950912   \n",
       "4     76859.0  1.161210  0.196413  0.602776  0.497615 -0.287764 -0.302403   \n",
       "..        ...       ...       ...       ...       ...       ...       ...   \n",
       "707   41194.0 -7.896886  5.381020 -8.451162  7.963928 -7.862419 -2.376820   \n",
       "708   37167.0 -7.923891 -5.198360 -3.000024  4.420666  2.272194 -3.394483   \n",
       "709  125612.0  1.889618  1.073099 -1.678018  4.173268  1.015516 -0.009389   \n",
       "710  102625.0 -4.221221  2.871121 -5.888716  6.890952 -3.404894 -1.154394   \n",
       "711  144808.0 -2.405207  2.943823 -7.616654  3.533374 -5.417494 -0.112632   \n",
       "\n",
       "            V7        V8        V9  ...       V20       V21       V22  \\\n",
       "0     0.136991 -0.245655 -0.079491  ... -0.033053 -0.279430 -0.770134   \n",
       "1     0.110222 -0.222721 -0.017278  ... -0.057911 -0.283275 -0.803506   \n",
       "2     0.484517  0.181547  0.081544  ...  0.457988 -0.335560 -0.780232   \n",
       "3     0.267398 -0.274685 -0.127708  ... -0.098066  0.035687  0.186705   \n",
       "4    -0.079441  0.037268 -0.311975  ... -0.087861 -0.158953 -0.436612   \n",
       "..         ...       ...       ...  ...       ...       ...       ...   \n",
       "707 -11.949723  5.051356 -6.912076  ...  0.645974  2.557944  0.926278   \n",
       "708  -5.283435  0.131619  0.658176  ... -2.169811 -0.734308 -0.599926   \n",
       "709  -0.079706  0.064071 -0.714517  ... -0.153570  0.203728  0.733796   \n",
       "710  -7.739928  2.851363 -2.507569  ... -0.227882  1.620591  1.567947   \n",
       "711  -1.329372  1.709417 -2.322716  ... -0.338707  0.652683  0.414132   \n",
       "\n",
       "          V23       V24       V25       V26       V27       V28  Amount  \n",
       "0    0.119789  0.360130  0.241921  0.092261 -0.018228  0.032361    1.78  \n",
       "1    0.124643  0.354395  0.226835  0.093208 -0.021100  0.031686    2.69  \n",
       "2   -0.027029 -0.090180 -0.022896  0.091830  0.547241  0.278780    1.29  \n",
       "3   -0.107300  0.417887  0.712330 -0.330843  0.018576  0.021871    3.99  \n",
       "4    0.172903  0.233287  0.105276  0.092472 -0.012589  0.008542    1.29  \n",
       "..        ...       ...       ...       ...       ...       ...     ...  \n",
       "707  0.032795  0.638073  0.361887  0.444577  1.101923  0.205958    1.52  \n",
       "708 -4.908301  0.410170 -1.167660  0.520508  1.937421 -1.552593   12.31  \n",
       "709 -0.036560  0.334306  0.147171  0.279556  0.031669  0.035883    3.22  \n",
       "710 -0.578007 -0.059045 -1.829169 -0.072429  0.136734 -0.599848    7.59  \n",
       "711  0.023869 -0.260616  0.405316  0.029107  0.519807 -0.469537  667.55  \n",
       "\n",
       "[712 rows x 30 columns]"
      ]
     },
     "execution_count": 15,
     "metadata": {},
     "output_type": "execute_result"
    }
   ],
   "source": [
    "x_train_nm"
   ]
  },
  {
   "cell_type": "code",
   "execution_count": 16,
   "id": "589603d9-6a8e-4502-b054-aa6f7ddbcdb1",
   "metadata": {},
   "outputs": [
    {
     "data": {
      "text/plain": [
       "0      0\n",
       "1      0\n",
       "2      0\n",
       "3      0\n",
       "4      0\n",
       "      ..\n",
       "707    1\n",
       "708    1\n",
       "709    1\n",
       "710    1\n",
       "711    1\n",
       "Name: Class, Length: 712, dtype: int64"
      ]
     },
     "execution_count": 16,
     "metadata": {},
     "output_type": "execute_result"
    }
   ],
   "source": [
    "y_train_nm"
   ]
  },
  {
   "cell_type": "markdown",
   "id": "64536fd8-ec75-4d6e-ac06-d84540d04305",
   "metadata": {},
   "source": [
    "### Oversampling\n",
    "##### 1. RandomOverSampler"
   ]
  },
  {
   "cell_type": "code",
   "execution_count": 17,
   "id": "754b6380-5351-41de-97a4-07d628b8d6dc",
   "metadata": {},
   "outputs": [],
   "source": [
    "from imblearn.over_sampling import RandomOverSampler"
   ]
  },
  {
   "cell_type": "code",
   "execution_count": 20,
   "id": "885b1dc5-51f4-4d42-940d-7440b1132edd",
   "metadata": {},
   "outputs": [],
   "source": [
    "# initialize\n",
    "rs = RandomOverSampler(sampling_strategy=0.80)"
   ]
  },
  {
   "cell_type": "code",
   "execution_count": 21,
   "id": "b11ec5fb-af74-4f9b-a727-343174a7fe72",
   "metadata": {},
   "outputs": [
    {
     "data": {
      "text/plain": [
       "Class\n",
       "0    199008\n",
       "1       356\n",
       "Name: count, dtype: int64"
      ]
     },
     "execution_count": 21,
     "metadata": {},
     "output_type": "execute_result"
    }
   ],
   "source": [
    "y_train.value_counts()"
   ]
  },
  {
   "cell_type": "code",
   "execution_count": 22,
   "id": "7ac43541-1572-4044-bd4e-075bcfb4742d",
   "metadata": {},
   "outputs": [],
   "source": [
    "x_train_rs,y_train_rs = rs.fit_resample(x_train,y_train)"
   ]
  },
  {
   "cell_type": "code",
   "execution_count": 23,
   "id": "931471b1-bbcf-4ed5-bff2-657cf0cec2da",
   "metadata": {},
   "outputs": [
    {
     "data": {
      "text/plain": [
       "Class\n",
       "0    199008\n",
       "1    159206\n",
       "Name: count, dtype: int64"
      ]
     },
     "execution_count": 23,
     "metadata": {},
     "output_type": "execute_result"
    }
   ],
   "source": [
    "y_train_rs.value_counts()"
   ]
  },
  {
   "cell_type": "code",
   "execution_count": 24,
   "id": "80777c9e-87bd-4d43-863c-c75a209d1a5e",
   "metadata": {},
   "outputs": [
    {
     "data": {
      "text/plain": [
       "0         0\n",
       "1         0\n",
       "2         0\n",
       "3         0\n",
       "4         0\n",
       "         ..\n",
       "358209    1\n",
       "358210    1\n",
       "358211    1\n",
       "358212    1\n",
       "358213    1\n",
       "Name: Class, Length: 358214, dtype: int64"
      ]
     },
     "execution_count": 24,
     "metadata": {},
     "output_type": "execute_result"
    }
   ],
   "source": [
    "y_train_rs"
   ]
  },
  {
   "cell_type": "code",
   "execution_count": 25,
   "id": "c70f7a2a-43cd-4c4a-a50b-b699d89dfdfb",
   "metadata": {},
   "outputs": [],
   "source": [
    "### SMOTE\n",
    "from imblearn.over_sampling import SMOTE"
   ]
  },
  {
   "cell_type": "code",
   "execution_count": 26,
   "id": "b6d4a3c9-a422-4c63-a5ca-132bd57fda2c",
   "metadata": {},
   "outputs": [],
   "source": [
    "smt = SMOTE(sampling_strategy=0.80,k_neighbors=9)"
   ]
  },
  {
   "cell_type": "code",
   "execution_count": 27,
   "id": "32d7ccc8-01c0-474a-9e63-f0791d70d48f",
   "metadata": {},
   "outputs": [],
   "source": [
    "x_train_smt,y_train_smt = smt.fit_resample(x_train,y_train)"
   ]
  },
  {
   "cell_type": "code",
   "execution_count": 29,
   "id": "8e83ce8d-a05a-4eee-b84b-453caf426a20",
   "metadata": {},
   "outputs": [
    {
     "data": {
      "text/plain": [
       "Class\n",
       "0    199008\n",
       "1    159206\n",
       "Name: count, dtype: int64"
      ]
     },
     "execution_count": 29,
     "metadata": {},
     "output_type": "execute_result"
    }
   ],
   "source": [
    "y_train_smt.value_counts()"
   ]
  },
  {
   "cell_type": "code",
   "execution_count": null,
   "id": "c0a4f905-1d76-41ca-8b61-d9fdbe85f2f0",
   "metadata": {},
   "outputs": [],
   "source": []
  }
 ],
 "metadata": {
  "kernelspec": {
   "display_name": "Python 3 (ipykernel)",
   "language": "python",
   "name": "python3"
  },
  "language_info": {
   "codemirror_mode": {
    "name": "ipython",
    "version": 3
   },
   "file_extension": ".py",
   "mimetype": "text/x-python",
   "name": "python",
   "nbconvert_exporter": "python",
   "pygments_lexer": "ipython3",
   "version": "3.11.7"
  },
  "widgets": {
   "application/vnd.jupyter.widget-state+json": {
    "state": {},
    "version_major": 2,
    "version_minor": 0
   }
  }
 },
 "nbformat": 4,
 "nbformat_minor": 5
}
